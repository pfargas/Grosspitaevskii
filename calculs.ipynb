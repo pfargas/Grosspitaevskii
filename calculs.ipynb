{
 "cells": [
  {
   "attachments": {},
   "cell_type": "markdown",
   "metadata": {},
   "source": [
    "# Resolució de l'equació de Gross-Pitaeskii"
   ]
  },
  {
   "attachments": {},
   "cell_type": "markdown",
   "metadata": {},
   "source": [
    "## Notes\n",
    "\n",
    "Equació que es vol resoldre:\n",
    "\n",
    "$$\\left( -\\frac{1}{2}\\nabla^2+\\frac{1}{2}r^2+4\\pi a_s N |\\psi|^2\\right )\\psi=\\mu\\psi$$\n",
    "\n",
    "Fem la descomposició $\\psi=\\frac{R(r)}{r}Y_{00}$, on $Y_{00}=\\frac{1}{\\sqrt{4\\pi}}$. Amb això ens queda:\n",
    "\n",
    "$$\\left( -\\frac{1}{2}\\frac{d^2}{dr^2}+\\frac{1}{2}r^2+4\\pi a_s N \\left(\\frac{R}{r}\\frac{1}{\\sqrt{4\\pi}}\\right)^2\\right )R=\\mu R \\rightarrow \\left( -\\frac{1}{2}\\frac{d^2}{dr^2}+\\frac{1}{2}r^2+ a_s N \\left(\\frac{R}{r}\\right)^2\\right )R=\\mu R$$"
   ]
  },
  {
   "attachments": {},
   "cell_type": "markdown",
   "metadata": {},
   "source": [
    "Aïllant la segona derivada tenim:\n",
    "$$\\frac{d^2R(r)}{dr^2}=\\left(r^2+2 a_s N \\left(\\frac{R}{r}\\right)^2-2\\mu\\right) R$$\n",
    "\n",
    "I podem utilitzar el següent canvi de variable:\n",
    "\n",
    "$$\\frac{d R(r)}{dr}=p(r)$$\n",
    "\n",
    "Per a tenir un sistema equacions diferencials ordinàries d'ordre 1:\n",
    "\n",
    "$$\\left \\{ \\begin{matrix}\\frac{dp(r))}{dr}=\\left(r^2+2 a_s N \\left(\\frac{R}{r}\\right)^2-2\\mu\\right) R\\\\\\frac{d R(r)}{dr}=p(r)\\end{matrix}\\right .$$"
   ]
  }
 ],
 "metadata": {
  "kernelspec": {
   "display_name": "DataAnalysis",
   "language": "python",
   "name": "python3"
  },
  "language_info": {
   "codemirror_mode": {
    "name": "ipython",
    "version": 3
   },
   "file_extension": ".py",
   "mimetype": "text/x-python",
   "name": "python",
   "nbconvert_exporter": "python",
   "pygments_lexer": "ipython3",
   "version": "3.10.8"
  },
  "orig_nbformat": 4
 },
 "nbformat": 4,
 "nbformat_minor": 2
}
