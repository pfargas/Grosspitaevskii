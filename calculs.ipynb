{
 "cells": [
  {
   "attachments": {},
   "cell_type": "markdown",
   "metadata": {},
   "source": [
    "# Resolució de l'equació de Gross-Pitaevskii"
   ]
  },
  {
   "attachments": {},
   "cell_type": "markdown",
   "metadata": {},
   "source": [
    "## Notes\n",
    "\n",
    "Equació que es vol resoldre:\n",
    "\n",
    "$$\\left( -\\frac{1}{2}\\nabla^2+\\frac{1}{2}r^2+4\\pi a_s N |\\psi|^2\\right )\\psi=\\mu\\psi$$\n",
    "\n",
    "Fem la descomposició $\\psi=\\frac{R(r)}{r}Y_{00}$, on $Y_{00}=\\frac{1}{\\sqrt{4\\pi}}$. Amb això ens queda:\n",
    "\n",
    "$$\\left( -\\frac{1}{2}\\frac{d^2}{dr^2}+\\frac{1}{2}r^2+4\\pi a_s N \\left(\\frac{R}{r}\\frac{1}{\\sqrt{4\\pi}}\\right)^2\\right )R=\\mu R \\rightarrow \\left( -\\frac{1}{2}\\frac{d^2}{dr^2}+\\frac{1}{2}r^2+ a_s N \\left(\\frac{R}{r}\\right)^2\\right )R=\\mu R$$"
   ]
  },
  {
   "attachments": {},
   "cell_type": "markdown",
   "metadata": {},
   "source": [
    "Per a tenir un codi més flexible, s'afegeix un factor que ens permet calcular una aproximació numèrica de l'aproximació de Thomas-Fermi i, fins i tot, fer una aproximació adiabàtica per a veure els efectes que té el fet de reduir el terme cinètic:\n",
    "\n",
    "$$\\left( -\\varepsilon\\frac{1}{2}\\frac{d^2}{dr^2}+\\frac{1}{2}r^2+ a_s N \\left(\\frac{R}{r}\\right)^2\\right )R=\\mu R$$\n",
    "\n",
    "On $\\varepsilon = 1$ correspon a l'equació de Gross-Pitaevskii i $\\lim _{\\varepsilon\\rightarrow 0}$ correspon a Thomas-Fermi"
   ]
  },
  {
   "attachments": {},
   "cell_type": "markdown",
   "metadata": {},
   "source": [
    "Aïllant la segona derivada tenim:\n",
    "$$\\frac{d^2R(r)}{dr^2}=\\left(r^2+2 a_s N \\left(\\frac{R}{r}\\right)^2-2\\mu\\right) R$$\n",
    "\n",
    "I podem utilitzar el següent canvi de variable:\n",
    "\n",
    "$$\\frac{d R(r)}{dr}=p(r)$$\n",
    "\n",
    "Per a tenir un sistema equacions diferencials ordinàries d'ordre 1:\n",
    "\n",
    "$$\\left \\{ \\begin{matrix}\\frac{dp(r))}{dr}=\\left(r^2+2 a_s N \\left(\\frac{R}{r}\\right)^2-2\\mu\\right) R\\\\\\frac{d R(r)}{dr}=p(r)\\end{matrix}\\right .$$"
   ]
  },
  {
   "cell_type": "code",
   "execution_count": null,
   "metadata": {},
   "outputs": [],
   "source": [
    "def simpson_integral(f, h):\n",
    "        \"\"\"Method to calculate integrals using Simpson's rule\n",
    "\n",
    "        Args:\n",
    "            f (array like): values of the function to integrate, separated by h\n",
    "            h (float): step size\n",
    "\n",
    "        Returns:\n",
    "            float: integral value\n",
    "        \"\"\"        \n",
    "        n = len(f)-1\n",
    "        integral = sum(2*f[i] if i % 2 == 0 else 4*f[i] for i in range(1,n))\n",
    "        integral+= f[0] + f[n]\n",
    "        return integral * h / 3"
   ]
  },
  {
   "cell_type": "code",
   "execution_count": null,
   "metadata": {},
   "outputs": [],
   "source": [
    "import numpy as np\n",
    "import matplotlib.pyplot as plt\n",
    "a0=0.00433  \n",
    "n1=700 \n",
    "step=0.015 \n",
    "aa=1000000 \n",
    "time=0.00005 \n",
    "iteration=70000\n",
    "alpha = [0.3,0.4,0.5,0.8]\n",
    "\n",
    "for a in alpha:\n",
    "    x=np.zeros(n1)\n",
    "    R=np.zeros(n1)\n",
    "    c=2*np.sqrt(a)**3/np.sqrt(np.sqrt(np.pi))\n",
    "    \n",
    "    for i in range(n1):\n",
    "        x[i]=step*i\n",
    "        R[i]=c*x[i]*np.exp(-0.5*(a**2)*(x[i]**2))\n",
    "    plt.plot(x,R,label=f'alpha={str(a)}')\n",
    "    plt.legend()\n",
    "    integral = simpson_integral(R**2,x[1]-x[0])\n",
    "    print(f\"valor de la normalització: {integral:.2f}\")"
   ]
  },
  {
   "cell_type": "code",
   "execution_count": null,
   "metadata": {},
   "outputs": [],
   "source": [
    "import numpy as np\n",
    "import matplotlib.pyplot as plt\n",
    "a0=0.00433  \n",
    "n1=700 \n",
    "step=0.015 \n",
    "aa=1000000 \n",
    "time=0.00005 \n",
    "iteration=70000\n",
    "alpha = [0.3,0.4,0.5,0.8]\n",
    "\n",
    "for a in alpha:\n",
    "    x=np.zeros(n1)\n",
    "    R=np.zeros(n1)\n",
    "    c=2*np.sqrt(a)**3/np.sqrt(np.sqrt(np.pi))\n",
    "    for i in range(n1):\n",
    "        x[i]=step*i\n",
    "    grid_step = x[1]-x[0]\n",
    "    for i in range(n1):\n",
    "        R[i]=c*x[i]*np.exp(-0.5*(a**2)*(x[i]**2))\n",
    "    normalization = simpson_integral(R ** 2, grid_step)\n",
    "    R = R / np.sqrt(normalization)\n",
    "    print(f\"valor de la normalització: {normalization:.2f}\")\n",
    "    plt.plot(x,R,label=f'alpha={str(a)}')\n",
    "    plt.legend()\n",
    "    integral = simpson_integral(R**2,x[1]-x[0])\n",
    "    print(f\"valor de la normalització: {integral:.2f}\")"
   ]
  },
  {
   "cell_type": "code",
   "execution_count": null,
   "metadata": {},
   "outputs": [],
   "source": [
    "xprova = np.linspace(0,2*np.pi,1000000000)\n",
    "step=xprova[1]-xprova[0]\n",
    "prova_integracio = np.cos(xprova)\n",
    "simpson_integral(prova_integracio,step)"
   ]
  },
  {
   "cell_type": "code",
   "execution_count": null,
   "metadata": {},
   "outputs": [],
   "source": [
    "from sympy import *\n",
    "\n",
    "x1=symbols('x')\n",
    "a1=symbols('a')\n",
    "\n",
    "expression = ((2*sqrt(a1)**3/sqrt(sqrt(pi)))*a1*exp(-0.5*(a1**2)*(x1**2)))**2\n",
    "expression\n",
    "\n"
   ]
  },
  {
   "cell_type": "code",
   "execution_count": null,
   "metadata": {},
   "outputs": [],
   "source": [
    "integral=integrate(expression,(x1,-oo,oo))\n",
    "integral"
   ]
  },
  {
   "cell_type": "code",
   "execution_count": null,
   "metadata": {},
   "outputs": [],
   "source": []
  },
  {
   "cell_type": "code",
   "execution_count": null,
   "metadata": {},
   "outputs": [],
   "source": [
    "import numpy as np\n",
    "x1 = np.arange(9.0).reshape((3, 3))\n",
    "print(x1)\n",
    "x2 = np.arange(9.0).reshape((3, 3))\n",
    "print(x2)\n",
    "print(x1 * x2)"
   ]
  },
  {
   "cell_type": "code",
   "execution_count": 1,
   "metadata": {},
   "outputs": [],
   "source": [
    "from grosspita import GrossPitaevskiiProblem\n",
    "\n",
    "problem1 = GrossPitaevskiiProblem(particle_number=1000000,\n",
    "                                  grid_size=10, \n",
    "                                  grid_step=0.02, \n",
    "                                  scattering_length=0.00433, \n",
    "                                  sigma=0.5, \n",
    "                                  time_step = 0.0001, \n",
    "                                  iterations=50000, \n",
    "                                  thomas_fermi=True\n",
    "                                  )\n",
    "problem2 = GrossPitaevskiiProblem(particle_number=1000000,\n",
    "                                  grid_size=10, \n",
    "                                  grid_step=0.02, \n",
    "                                  scattering_length=0.00433, \n",
    "                                  sigma=0.5, \n",
    "                                  time_step = 0.0001, \n",
    "                                  iterations=50000)"
   ]
  },
  {
   "cell_type": "code",
   "execution_count": 2,
   "metadata": {},
   "outputs": [
    {
     "name": "stdout",
     "output_type": "stream",
     "text": [
      "1000000 Bosons in a spherical trap \n",
      " r-grid from 0 to 10, r-step 0.02 \n",
      " a_s=0.00433, sigma=0.5 \n",
      " time=0.0001, number-iter=50000.\n",
      " Interacting system: True \n",
      " Thomas-Fermi: True\n"
     ]
    }
   ],
   "source": [
    "print(problem1)"
   ]
  },
  {
   "cell_type": "code",
   "execution_count": null,
   "metadata": {},
   "outputs": [],
   "source": [
    "problem1.evolution()"
   ]
  },
  {
   "cell_type": "code",
   "execution_count": null,
   "metadata": {},
   "outputs": [],
   "source": [
    "problem1.energy"
   ]
  },
  {
   "cell_type": "code",
   "execution_count": null,
   "metadata": {},
   "outputs": [],
   "source": [
    "mu = problem1.evolution()"
   ]
  },
  {
   "cell_type": "code",
   "execution_count": null,
   "metadata": {},
   "outputs": [],
   "source": [
    "energy = problem1.energy\n",
    "print(mu)"
   ]
  },
  {
   "cell_type": "code",
   "execution_count": null,
   "metadata": {},
   "outputs": [],
   "source": [
    "import matplotlib.pyplot as plt\n",
    "import numpy as np\n"
   ]
  },
  {
   "cell_type": "code",
   "execution_count": null,
   "metadata": {},
   "outputs": [],
   "source": [
    "psi1 = problem1.evolution()\n",
    "psi2 = problem2.evolution()"
   ]
  },
  {
   "cell_type": "code",
   "execution_count": null,
   "metadata": {},
   "outputs": [],
   "source": [
    "mu = psi1\n",
    "energy = problem1.energy\n",
    "print(mu,\"\\n\",energy)"
   ]
  },
  {
   "cell_type": "code",
   "execution_count": null,
   "metadata": {},
   "outputs": [],
   "source": [
    "problem2.kinetic_term"
   ]
  },
  {
   "cell_type": "code",
   "execution_count": null,
   "metadata": {},
   "outputs": [],
   "source": [
    "problem2.energy"
   ]
  },
  {
   "cell_type": "code",
   "execution_count": null,
   "metadata": {},
   "outputs": [],
   "source": [
    "problem2.trap_term"
   ]
  },
  {
   "cell_type": "code",
   "execution_count": null,
   "metadata": {},
   "outputs": [],
   "source": [
    "problem2.interaction_term"
   ]
  },
  {
   "cell_type": "code",
   "execution_count": null,
   "metadata": {},
   "outputs": [],
   "source": [
    "problem2.virial"
   ]
  },
  {
   "cell_type": "code",
   "execution_count": null,
   "metadata": {},
   "outputs": [],
   "source": [
    "problem2.trapezoidal_integral(problem2.density*4*np.pi*problem2.discreted_r[1:]**2, problem2.grid_step)"
   ]
  },
  {
   "cell_type": "code",
   "execution_count": null,
   "metadata": {},
   "outputs": [],
   "source": [
    "d1=problem1.density\n",
    "d2=problem2.density\n",
    "\n",
    "plt.plot(d1,label='TF')\n",
    "plt.plot(d2,label='GP')\n",
    "plt.legend()"
   ]
  },
  {
   "cell_type": "code",
   "execution_count": null,
   "metadata": {},
   "outputs": [],
   "source": [
    "problem1.energy"
   ]
  },
  {
   "cell_type": "code",
   "execution_count": null,
   "metadata": {},
   "outputs": [],
   "source": [
    "psi1"
   ]
  },
  {
   "cell_type": "code",
   "execution_count": null,
   "metadata": {},
   "outputs": [],
   "source": [
    "r_vector = np.arange(0., problem1.grid_size, problem1.grid_step)\n",
    "\n",
    "density = (psi1 /r_vector)**2 * 1/(4*np.pi)\n",
    "density2 = (psi2 /r_vector)**2 * 1/(4*np.pi)\n",
    "index = 15\n",
    "plt.plot(r_vector[index:],density[index:])\n",
    "plt.plot(r_vector[index:],density2[index:])"
   ]
  },
  {
   "cell_type": "code",
   "execution_count": null,
   "metadata": {},
   "outputs": [],
   "source": [
    "problem.interacting_system"
   ]
  },
  {
   "cell_type": "code",
   "execution_count": null,
   "metadata": {},
   "outputs": [],
   "source": [
    "\n",
    "r_vector = np.arange(0., problem.grid_size, problem.grid_step)\n",
    "\n",
    "density = (psi /r_vector)**2 * 1/(4*np.pi)\n",
    "plt.plot(r_vector,density)"
   ]
  },
  {
   "cell_type": "code",
   "execution_count": null,
   "metadata": {},
   "outputs": [],
   "source": [
    "alpha = 0.5\n",
    "cvar=2*np.sqrt(alpha)**3/np.sqrt(np.sqrt(np.pi))\n",
    "r_vector = np.arange(0., 6, 0.02)\n",
    "psi = cvar*r_vector*np.exp(-0.5*(alpha**2)*(r_vector**2))\n",
    "plt.plot(r_vector,psi)"
   ]
  },
  {
   "cell_type": "code",
   "execution_count": null,
   "metadata": {},
   "outputs": [],
   "source": [
    "def density(r_vector,psi):\n",
    "    return (psi /r_vector)**2 * 1/(4*np.pi)"
   ]
  },
  {
   "cell_type": "code",
   "execution_count": null,
   "metadata": {},
   "outputs": [],
   "source": [
    "plt.plot(r_vector,density(r_vector,psi))"
   ]
  },
  {
   "cell_type": "code",
   "execution_count": null,
   "metadata": {},
   "outputs": [],
   "source": [
    "def second_derivative(f, h):\n",
    "    derivative = np.zeros(len(f))\n",
    "    for i, _ in enumerate(f):\n",
    "        if i == 0:\n",
    "            derivative[i] = 0\n",
    "        elif i == len(f) - 1:\n",
    "            derivative[i] = (f[i - 1] - 2 * f[i]) / (h ** 2)\n",
    "        else:\n",
    "            derivative[i] = (f[i + 1] - 2 * f[i] + f[i - 1]) / (h ** 2)\n",
    "    return derivative"
   ]
  },
  {
   "cell_type": "code",
   "execution_count": null,
   "metadata": {},
   "outputs": [],
   "source": [
    "ddpsi = second_derivative(psi,problem.grid_step)\n",
    "\n",
    "plt.plot(r_vector[:len(r_vector)-1],ddpsi[:len(r_vector)-1])"
   ]
  },
  {
   "cell_type": "code",
   "execution_count": null,
   "metadata": {},
   "outputs": [],
   "source": [
    "grid_size = 6\n",
    "grid_step = 0.02\n",
    "sigma = 0.8\n",
    "\n",
    "r = np.arange(0, grid_size, grid_step)\n",
    "psi = np.zeros(len(r))\n",
    "cvar = 2 * np.sqrt(sigma) ** 3 / np.sqrt(np.sqrt(np.pi))\n",
    "psi = cvar*r*np.exp(-0.5*sigma**2*r**2)\n",
    "\n",
    "plt.plot(r,psi)\n"
   ]
  },
  {
   "cell_type": "code",
   "execution_count": null,
   "metadata": {},
   "outputs": [],
   "source": [
    "def simpson_integral(f, h):\n",
    "    \"\"\"Method to calculate integrals using Simpson's rule\n",
    "\n",
    "    Args:\n",
    "        f (array like): values of the function to integrate, separated by h\n",
    "        h (float): step size\n",
    "\n",
    "    Returns:\n",
    "        float: integral value\n",
    "    \"\"\"\n",
    "    n = len(f) - 1\n",
    "    integral = sum(2 * f[i] if i % 2 == 0 else 4 * f[i] for i in range(1, n))\n",
    "    integral += f[0] + f[n]\n",
    "    return integral * h / 3\n",
    "\n",
    "def second_derivative(f, h):\n",
    "    derivative = np.zeros(len(f))\n",
    "    for i, _ in enumerate(f):\n",
    "        if i == 0:\n",
    "            derivative[i] = 0\n",
    "        elif i == len(f) - 1:\n",
    "            derivative[i] = (f[i - 1] - 2 * f[i]) / (h ** 2)\n",
    "        else:\n",
    "            derivative[i] = (f[i + 1] - 2 * f[i] + f[i - 1]) / (h ** 2)\n",
    "    return derivative"
   ]
  },
  {
   "cell_type": "code",
   "execution_count": null,
   "metadata": {},
   "outputs": [],
   "source": [
    "scattering_length = 0.00433\n",
    "number_particles = 10000\n",
    "iterations = 50000\n",
    "\n",
    "for _ in range(iterations):\n",
    "    # normalize the wave function\n",
    "    normalization = simpson_integral(psi ** 2, grid_step)\n",
    "    psi = psi / np.sqrt(normalization)\n",
    "    # calculate the chemical potential\n",
    "    chemical_potential = "
   ]
  }
 ],
 "metadata": {
  "kernelspec": {
   "display_name": "DataAnalysis",
   "language": "python",
   "name": "python3"
  },
  "language_info": {
   "codemirror_mode": {
    "name": "ipython",
    "version": 3
   },
   "file_extension": ".py",
   "mimetype": "text/x-python",
   "name": "python",
   "nbconvert_exporter": "python",
   "pygments_lexer": "ipython3",
   "version": "3.9.7"
  },
  "orig_nbformat": 4
 },
 "nbformat": 4,
 "nbformat_minor": 2
}
