{
 "cells": [
  {
   "attachments": {},
   "cell_type": "markdown",
   "metadata": {},
   "source": [
    "# Coses a fer"
   ]
  },
  {
   "attachments": {},
   "cell_type": "markdown",
   "metadata": {},
   "source": [
    "1. Agregar factor $\\varepsilon$ al terme cinètic de l'equació de GP tal que $\\varepsilon=1$ GP, $\\varepsilon<<1$ thomas-fermi\n",
    "2. Afegir una manera de saber si s'ha integrat la equació. Cridar la resolució al instanciar el problema? I fer propietats per a cada valor esperat?\n",
    "3. Comparació TF analititc amb TF numèric ($\\varepsilon<<1$)\n",
    "4. Implementar els valors esperats\n",
    "5. Implementar un criteri de convergència?\n",
    "6. Analisi dels resultats (comprovar que son correctes primer)"
   ]
  }
 ],
 "metadata": {
  "language_info": {
   "name": "python"
  },
  "orig_nbformat": 4
 },
 "nbformat": 4,
 "nbformat_minor": 2
}
