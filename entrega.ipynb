{
 "cells": [
  {
   "cell_type": "code",
   "execution_count": 18,
   "metadata": {},
   "outputs": [],
   "source": [
    "from grosspita import GrossPitaevskiiProblem\n",
    "import csv"
   ]
  },
  {
   "cell_type": "code",
   "execution_count": null,
   "metadata": {},
   "outputs": [],
   "source": []
  },
  {
   "attachments": {},
   "cell_type": "markdown",
   "metadata": {},
   "source": [
    "# Section a0)\n",
    "\n",
    "Check that if no interaction is considered, the simulation returns the expected results of the harmonic oscil·lator."
   ]
  },
  {
   "cell_type": "code",
   "execution_count": 19,
   "metadata": {},
   "outputs": [],
   "source": [
    "section_a0 = GrossPitaevskiiProblem(\n",
    "                                    particle_number=1000000,\n",
    "                                    grid_size=10, \n",
    "                                    grid_step=0.02, \n",
    "                                    scattering_length=0.00433, \n",
    "                                    sigma=0.5, \n",
    "                                    time_step = 0.0001, \n",
    "                                    iterations=20000, \n",
    "                                    thomas_fermi=False,\n",
    "                                    interacting_system=False\n",
    "                                    )"
   ]
  },
  {
   "cell_type": "code",
   "execution_count": 20,
   "metadata": {},
   "outputs": [
    {
     "name": "stderr",
     "output_type": "stream",
     "text": [
      "100%|██████████| 20000/20000 [00:25<00:00, 795.44it/s]\n"
     ]
    }
   ],
   "source": [
    "chemical_potential_section_a0 = section_a0.evolution()"
   ]
  },
  {
   "cell_type": "code",
   "execution_count": 21,
   "metadata": {},
   "outputs": [],
   "source": [
    "energy_section_a0 = section_a0.energy"
   ]
  },
  {
   "cell_type": "code",
   "execution_count": 22,
   "metadata": {},
   "outputs": [
    {
     "name": "stdout",
     "output_type": "stream",
     "text": [
      "e= 1.50 \n",
      " mu= 1.50\n"
     ]
    }
   ],
   "source": [
    "print(\"e=\",f\"{energy_section_a0:.2f}\",\"\\n\",\"mu=\",f\"{chemical_potential_section_a0:.2f}\")"
   ]
  },
  {
   "attachments": {},
   "cell_type": "markdown",
   "metadata": {},
   "source": [
    "# Section a)\n",
    "\n",
    "Study of the energies versus the number of particles"
   ]
  },
  {
   "cell_type": "code",
   "execution_count": 23,
   "metadata": {},
   "outputs": [
    {
     "name": "stdout",
     "output_type": "stream",
     "text": [
      "Starting calculation for 100 particles\n"
     ]
    },
    {
     "name": "stderr",
     "output_type": "stream",
     "text": [
      "100%|██████████| 20000/20000 [00:24<00:00, 808.51it/s]\n"
     ]
    },
    {
     "name": "stdout",
     "output_type": "stream",
     "text": [
      "Starting calculation for 1000 particles\n"
     ]
    },
    {
     "name": "stderr",
     "output_type": "stream",
     "text": [
      "100%|██████████| 20000/20000 [00:24<00:00, 803.55it/s]\n"
     ]
    },
    {
     "name": "stdout",
     "output_type": "stream",
     "text": [
      "Starting calculation for 10000 particles\n"
     ]
    },
    {
     "name": "stderr",
     "output_type": "stream",
     "text": [
      "100%|██████████| 20000/20000 [00:24<00:00, 807.33it/s]\n"
     ]
    },
    {
     "name": "stdout",
     "output_type": "stream",
     "text": [
      "Starting calculation for 100000 particles\n"
     ]
    },
    {
     "name": "stderr",
     "output_type": "stream",
     "text": [
      "100%|██████████| 20000/20000 [00:24<00:00, 808.36it/s]\n"
     ]
    },
    {
     "name": "stdout",
     "output_type": "stream",
     "text": [
      "Starting calculation for 1000000 particles\n"
     ]
    },
    {
     "name": "stderr",
     "output_type": "stream",
     "text": [
      "100%|██████████| 20000/20000 [00:24<00:00, 811.21it/s]\n"
     ]
    }
   ],
   "source": [
    "number_of_particles_list = [100,1000,10000,100000,1000000]\n",
    "with open(\"a.csv\",\"w\") as file:\n",
    "    writer = csv.writer(file)\n",
    "    writer.writerow([\"N\",\"mu\",\"e_kin\",\"e_trap\",\"e_int\",\"e\"])\n",
    "    for number_of_particles in number_of_particles_list:\n",
    "        print(f\"Starting calculation for {number_of_particles} particles\")\n",
    "        section_a = GrossPitaevskiiProblem(\n",
    "                                    particle_number=number_of_particles,\n",
    "                                    grid_size=10, \n",
    "                                    grid_step=0.02, \n",
    "                                    scattering_length=0.00433, \n",
    "                                    sigma=0.5, \n",
    "                                    time_step = 0.0001, \n",
    "                                    iterations=20000, \n",
    "                                    thomas_fermi=False,\n",
    "                                    interacting_system=True\n",
    "                                    )\n",
    "        \n",
    "        chemical_potential_section_a = section_a.evolution()\n",
    "\n",
    "        kinetic_energy_section_a = section_a.kinetic_term\n",
    "        trap_energy_section_a = section_a.trap_term\n",
    "        interaction_energy_section_a = section_a.interaction_term\n",
    "        energy_section_a = section_a.energy\n",
    "\n",
    "\n",
    "        writer.writerow([number_of_particles,\n",
    "                        chemical_potential_section_a,\n",
    "                        kinetic_energy_section_a,\n",
    "                        trap_energy_section_a,\n",
    "                        interaction_energy_section_a,\n",
    "                        energy_section_a])\n",
    "        "
   ]
  },
  {
   "cell_type": "code",
   "execution_count": 24,
   "metadata": {},
   "outputs": [],
   "source": [
    "import pandas as pd\n",
    "import matplotlib.pyplot as plt\n",
    "\n",
    "df = pd.read_csv(\"a.csv\")\n",
    "for column in df.columns[1:]:\n",
    "    df[column] = round(df[column],2)"
   ]
  },
  {
   "cell_type": "code",
   "execution_count": 25,
   "metadata": {},
   "outputs": [
    {
     "data": {
      "text/html": [
       "<div>\n",
       "<style scoped>\n",
       "    .dataframe tbody tr th:only-of-type {\n",
       "        vertical-align: middle;\n",
       "    }\n",
       "\n",
       "    .dataframe tbody tr th {\n",
       "        vertical-align: top;\n",
       "    }\n",
       "\n",
       "    .dataframe thead th {\n",
       "        text-align: right;\n",
       "    }\n",
       "</style>\n",
       "<table border=\"1\" class=\"dataframe\">\n",
       "  <thead>\n",
       "    <tr style=\"text-align: right;\">\n",
       "      <th></th>\n",
       "      <th>N</th>\n",
       "      <th>mu</th>\n",
       "      <th>e_kin</th>\n",
       "      <th>e_trap</th>\n",
       "      <th>e_int</th>\n",
       "      <th>e</th>\n",
       "    </tr>\n",
       "  </thead>\n",
       "  <tbody>\n",
       "    <tr>\n",
       "      <th>0</th>\n",
       "      <td>100</td>\n",
       "      <td>1.79</td>\n",
       "      <td>0.65</td>\n",
       "      <td>0.87</td>\n",
       "      <td>0.13</td>\n",
       "      <td>1.65</td>\n",
       "    </tr>\n",
       "    <tr>\n",
       "      <th>1</th>\n",
       "      <td>1000</td>\n",
       "      <td>3.04</td>\n",
       "      <td>0.44</td>\n",
       "      <td>1.37</td>\n",
       "      <td>0.62</td>\n",
       "      <td>2.42</td>\n",
       "    </tr>\n",
       "    <tr>\n",
       "      <th>2</th>\n",
       "      <td>10000</td>\n",
       "      <td>6.87</td>\n",
       "      <td>0.24</td>\n",
       "      <td>2.98</td>\n",
       "      <td>1.82</td>\n",
       "      <td>5.04</td>\n",
       "    </tr>\n",
       "    <tr>\n",
       "      <th>3</th>\n",
       "      <td>100000</td>\n",
       "      <td>16.85</td>\n",
       "      <td>0.12</td>\n",
       "      <td>7.24</td>\n",
       "      <td>4.74</td>\n",
       "      <td>12.10</td>\n",
       "    </tr>\n",
       "    <tr>\n",
       "      <th>4</th>\n",
       "      <td>1000000</td>\n",
       "      <td>42.12</td>\n",
       "      <td>0.06</td>\n",
       "      <td>18.05</td>\n",
       "      <td>12.00</td>\n",
       "      <td>30.12</td>\n",
       "    </tr>\n",
       "  </tbody>\n",
       "</table>\n",
       "</div>"
      ],
      "text/plain": [
       "         N     mu  e_kin  e_trap  e_int      e\n",
       "0      100   1.79   0.65    0.87   0.13   1.65\n",
       "1     1000   3.04   0.44    1.37   0.62   2.42\n",
       "2    10000   6.87   0.24    2.98   1.82   5.04\n",
       "3   100000  16.85   0.12    7.24   4.74  12.10\n",
       "4  1000000  42.12   0.06   18.05  12.00  30.12"
      ]
     },
     "execution_count": 25,
     "metadata": {},
     "output_type": "execute_result"
    }
   ],
   "source": [
    "df.head()"
   ]
  },
  {
   "cell_type": "code",
   "execution_count": 26,
   "metadata": {},
   "outputs": [],
   "source": [
    "df.to_latex(\"a.tex\",index=False)"
   ]
  },
  {
   "attachments": {},
   "cell_type": "markdown",
   "metadata": {},
   "source": [
    "# Section b)\n",
    "\n",
    "Study of the energies versus the number of particles in the Thomas-Fermi approximation"
   ]
  },
  {
   "cell_type": "code",
   "execution_count": 27,
   "metadata": {},
   "outputs": [
    {
     "name": "stdout",
     "output_type": "stream",
     "text": [
      "Starting calculation for 100 particles\n"
     ]
    },
    {
     "name": "stderr",
     "output_type": "stream",
     "text": [
      "100%|██████████| 50000/50000 [01:01<00:00, 815.09it/s]\n"
     ]
    },
    {
     "name": "stdout",
     "output_type": "stream",
     "text": [
      "Starting calculation for 1000 particles\n"
     ]
    },
    {
     "name": "stderr",
     "output_type": "stream",
     "text": [
      "100%|██████████| 50000/50000 [01:00<00:00, 822.40it/s]\n"
     ]
    },
    {
     "name": "stdout",
     "output_type": "stream",
     "text": [
      "Starting calculation for 10000 particles\n"
     ]
    },
    {
     "name": "stderr",
     "output_type": "stream",
     "text": [
      "100%|██████████| 50000/50000 [01:00<00:00, 820.06it/s]\n"
     ]
    },
    {
     "name": "stdout",
     "output_type": "stream",
     "text": [
      "Starting calculation for 100000 particles\n"
     ]
    },
    {
     "name": "stderr",
     "output_type": "stream",
     "text": [
      "100%|██████████| 50000/50000 [01:01<00:00, 818.78it/s]\n"
     ]
    },
    {
     "name": "stdout",
     "output_type": "stream",
     "text": [
      "Starting calculation for 1000000 particles\n"
     ]
    },
    {
     "name": "stderr",
     "output_type": "stream",
     "text": [
      "100%|██████████| 50000/50000 [01:01<00:00, 810.08it/s]\n"
     ]
    }
   ],
   "source": [
    "number_of_particles_list = [100,1000,10000,100000,1000000]\n",
    "with open(\"b.csv\",\"w\") as file:\n",
    "    writer = csv.writer(file)\n",
    "    writer.writerow([\"N\",\"mu\",\"e_kin\",\"e_trap\",\"e_int\",\"e\"])\n",
    "    for number_of_particles in number_of_particles_list:\n",
    "        print(f\"Starting calculation for {number_of_particles} particles\")\n",
    "        section_a = GrossPitaevskiiProblem(\n",
    "                                    particle_number=number_of_particles,\n",
    "                                    grid_size=10, \n",
    "                                    grid_step=0.02, \n",
    "                                    scattering_length=0.00433, \n",
    "                                    sigma=0.5, \n",
    "                                    time_step = 0.0001, \n",
    "                                    iterations=50000, \n",
    "                                    thomas_fermi=True,\n",
    "                                    interacting_system=True\n",
    "                                    )\n",
    "        \n",
    "        chemical_potential_section_a = section_a.evolution()\n",
    "\n",
    "        kinetic_energy_section_a = section_a.kinetic_term\n",
    "        trap_energy_section_a = section_a.trap_term\n",
    "        interaction_energy_section_a = section_a.interaction_term\n",
    "        energy_section_a = section_a.energy\n",
    "\n",
    "\n",
    "        writer.writerow([number_of_particles,\n",
    "                        chemical_potential_section_a,\n",
    "                        kinetic_energy_section_a,\n",
    "                        trap_energy_section_a,\n",
    "                        interaction_energy_section_a,\n",
    "                        energy_section_a])"
   ]
  },
  {
   "cell_type": "code",
   "execution_count": 28,
   "metadata": {},
   "outputs": [
    {
     "data": {
      "text/html": [
       "<div>\n",
       "<style scoped>\n",
       "    .dataframe tbody tr th:only-of-type {\n",
       "        vertical-align: middle;\n",
       "    }\n",
       "\n",
       "    .dataframe tbody tr th {\n",
       "        vertical-align: top;\n",
       "    }\n",
       "\n",
       "    .dataframe thead th {\n",
       "        text-align: right;\n",
       "    }\n",
       "</style>\n",
       "<table border=\"1\" class=\"dataframe\">\n",
       "  <thead>\n",
       "    <tr style=\"text-align: right;\">\n",
       "      <th></th>\n",
       "      <th>N</th>\n",
       "      <th>mu</th>\n",
       "      <th>e_kin</th>\n",
       "      <th>e_trap</th>\n",
       "      <th>e_int</th>\n",
       "      <th>e</th>\n",
       "    </tr>\n",
       "  </thead>\n",
       "  <tbody>\n",
       "    <tr>\n",
       "      <th>0</th>\n",
       "      <td>100</td>\n",
       "      <td>1.04</td>\n",
       "      <td>0.0</td>\n",
       "      <td>0.47</td>\n",
       "      <td>0.29</td>\n",
       "      <td>0.76</td>\n",
       "    </tr>\n",
       "    <tr>\n",
       "      <th>1</th>\n",
       "      <td>1000</td>\n",
       "      <td>2.65</td>\n",
       "      <td>0.0</td>\n",
       "      <td>1.15</td>\n",
       "      <td>0.75</td>\n",
       "      <td>1.90</td>\n",
       "    </tr>\n",
       "    <tr>\n",
       "      <th>2</th>\n",
       "      <td>10000</td>\n",
       "      <td>6.66</td>\n",
       "      <td>0.0</td>\n",
       "      <td>2.86</td>\n",
       "      <td>1.90</td>\n",
       "      <td>4.76</td>\n",
       "    </tr>\n",
       "    <tr>\n",
       "      <th>3</th>\n",
       "      <td>100000</td>\n",
       "      <td>16.75</td>\n",
       "      <td>0.0</td>\n",
       "      <td>7.18</td>\n",
       "      <td>4.78</td>\n",
       "      <td>11.96</td>\n",
       "    </tr>\n",
       "    <tr>\n",
       "      <th>4</th>\n",
       "      <td>1000000</td>\n",
       "      <td>42.08</td>\n",
       "      <td>0.0</td>\n",
       "      <td>18.03</td>\n",
       "      <td>12.03</td>\n",
       "      <td>30.05</td>\n",
       "    </tr>\n",
       "  </tbody>\n",
       "</table>\n",
       "</div>"
      ],
      "text/plain": [
       "         N     mu  e_kin  e_trap  e_int      e\n",
       "0      100   1.04    0.0    0.47   0.29   0.76\n",
       "1     1000   2.65    0.0    1.15   0.75   1.90\n",
       "2    10000   6.66    0.0    2.86   1.90   4.76\n",
       "3   100000  16.75    0.0    7.18   4.78  11.96\n",
       "4  1000000  42.08    0.0   18.03  12.03  30.05"
      ]
     },
     "execution_count": 28,
     "metadata": {},
     "output_type": "execute_result"
    }
   ],
   "source": [
    "df2 = pd.read_csv(\"b.csv\")\n",
    "for column in df.columns[1:]:\n",
    "    df2[column] = round(df2[column],2)\n",
    "df2.head()"
   ]
  },
  {
   "cell_type": "code",
   "execution_count": 29,
   "metadata": {},
   "outputs": [],
   "source": [
    "df2.to_latex(\"b.tex\",index=False)"
   ]
  },
  {
   "attachments": {},
   "cell_type": "markdown",
   "metadata": {},
   "source": [
    "# Section c)\n",
    "\n",
    "Density profile with N=1000 and N=100000, for the GP and TF approximations"
   ]
  },
  {
   "cell_type": "code",
   "execution_count": 30,
   "metadata": {},
   "outputs": [],
   "source": [
    "section_c1 = GrossPitaevskiiProblem(\n",
    "                                    particle_number=1000,\n",
    "                                    grid_size=10, \n",
    "                                    grid_step=0.02, \n",
    "                                    scattering_length=0.00433, \n",
    "                                    sigma=0.5, \n",
    "                                    time_step = 0.0001, \n",
    "                                    iterations=20000, \n",
    "                                    thomas_fermi=False,\n",
    "                                    interacting_system=True\n",
    "                                    )\n",
    "section_c1t = GrossPitaevskiiProblem(\n",
    "                                    particle_number=1000,\n",
    "                                    grid_size=10, \n",
    "                                    grid_step=0.02, \n",
    "                                    scattering_length=0.00433, \n",
    "                                    sigma=0.5, \n",
    "                                    time_step = 0.0001, \n",
    "                                    iterations=20000, \n",
    "                                    thomas_fermi=True,\n",
    "                                    interacting_system=True\n",
    "                                    )\n",
    "section_c2 = GrossPitaevskiiProblem(\n",
    "                                    particle_number=100000,\n",
    "                                    grid_size=10, \n",
    "                                    grid_step=0.02, \n",
    "                                    scattering_length=0.00433, \n",
    "                                    sigma=0.5, \n",
    "                                    time_step = 0.0001, \n",
    "                                    iterations=20000, \n",
    "                                    thomas_fermi=False,\n",
    "                                    interacting_system=True\n",
    "                                    )\n",
    "section_c2t = GrossPitaevskiiProblem(\n",
    "                                    particle_number=100000,\n",
    "                                    grid_size=10, \n",
    "                                    grid_step=0.02, \n",
    "                                    scattering_length=0.00433, \n",
    "                                    sigma=0.5, \n",
    "                                    time_step = 0.0001, \n",
    "                                    iterations=20000, \n",
    "                                    thomas_fermi=True,\n",
    "                                    interacting_system=True\n",
    "                                    )"
   ]
  },
  {
   "cell_type": "code",
   "execution_count": 31,
   "metadata": {},
   "outputs": [
    {
     "name": "stderr",
     "output_type": "stream",
     "text": [
      "100%|██████████| 20000/20000 [00:24<00:00, 822.06it/s]\n",
      "100%|██████████| 20000/20000 [00:24<00:00, 823.88it/s]\n",
      "100%|██████████| 20000/20000 [00:24<00:00, 815.24it/s]\n",
      "100%|██████████| 20000/20000 [00:25<00:00, 790.99it/s]\n"
     ]
    }
   ],
   "source": [
    "chemical_potential_section_c1 = section_c1.evolution()\n",
    "chemical_potential_section_c1t = section_c1t.evolution()\n",
    "chemical_potential_section_c2 = section_c2.evolution()\n",
    "chemical_potential_section_c2t = section_c2t.evolution()"
   ]
  },
  {
   "cell_type": "code",
   "execution_count": 32,
   "metadata": {},
   "outputs": [],
   "source": [
    "density_c1=section_c1.density\n",
    "density_c1t=section_c1t.density\n",
    "density_c2=section_c2.density\n",
    "density_c2t=section_c2t.density"
   ]
  },
  {
   "cell_type": "code",
   "execution_count": 33,
   "metadata": {},
   "outputs": [],
   "source": [
    "with open(\"d.csv\",\"w\") as file:\n",
    "    writer = csv.writer(file)\n",
    "    for i in range(len(density_c1)):\n",
    "        writer.writerow([density_c1[i],density_c2[i],density_c1t[i],density_c2t[i]])\n",
    "        \n",
    "x = section_c1.discreted_r[1:]"
   ]
  },
  {
   "cell_type": "code",
   "execution_count": 34,
   "metadata": {},
   "outputs": [
    {
     "data": {
      "image/png": "[encoded data removed]",
      "text/plain": [
       "<Figure size 432x288 with 1 Axes>"
      ]
     },
     "metadata": {
      "needs_background": "light"
     },
     "output_type": "display_data"
    }
   ],
   "source": [
    "import matplotlib.pyplot as plt\n",
    "plt.plot(x,density_c1,label='GP')\n",
    "plt.plot(x,density_c1t,label='TF')\n",
    "plt.legend()\n",
    "plt.hlines(0,xmin=0,xmax=10, linestyles='dashed', colors='grey')\n",
    "plt.xlabel('$r_{1}$',fontsize=16)\n",
    "plt.ylabel(r\"$\\rho$\",fontsize=16)\n",
    "plt.rc(\"axes\",labelsize=16)\n",
    "plt.savefig('N1.png',bbox_inches='tight')\n",
    "plt.show()"
   ]
  },
  {
   "cell_type": "code",
   "execution_count": 35,
   "metadata": {},
   "outputs": [
    {
     "data": {
      "image/png": "[encoded data removed]",
      "text/plain": [
       "<Figure size 432x288 with 1 Axes>"
      ]
     },
     "metadata": {
      "needs_background": "light"
     },
     "output_type": "display_data"
    }
   ],
   "source": [
    "plt.plot(x,density_c2,label='GP')\n",
    "plt.plot(x,density_c2t,label='TF')\n",
    "plt.legend()\n",
    "plt.hlines(0,xmin=0,xmax=10, linestyles='dashed', colors='grey')\n",
    "plt.xlabel('$r_1$',fontsize=16)\n",
    "plt.ylabel(r\"$\\rho$\",fontsize=16)\n",
    "plt.rc(\"axes\",labelsize=16)\n",
    "plt.savefig('N10.png',bbox_inches='tight')\n",
    "plt.show()"
   ]
  },
  {
   "attachments": {},
   "cell_type": "markdown",
   "metadata": {},
   "source": [
    "# Section d)\n",
    "\n",
    "Numerical study of the Virial theorem"
   ]
  },
  {
   "cell_type": "code",
   "execution_count": 40,
   "metadata": {},
   "outputs": [
    {
     "name": "stdout",
     "output_type": "stream",
     "text": [
      "Starting calculation for 100 particles\n"
     ]
    },
    {
     "name": "stderr",
     "output_type": "stream",
     "text": [
      "100%|██████████| 50000/50000 [01:05<00:00, 763.43it/s]\n"
     ]
    },
    {
     "name": "stdout",
     "output_type": "stream",
     "text": [
      "Starting calculation for 1000 particles\n"
     ]
    },
    {
     "name": "stderr",
     "output_type": "stream",
     "text": [
      "100%|██████████| 50000/50000 [01:07<00:00, 739.63it/s]\n"
     ]
    },
    {
     "name": "stdout",
     "output_type": "stream",
     "text": [
      "Starting calculation for 10000 particles\n"
     ]
    },
    {
     "name": "stderr",
     "output_type": "stream",
     "text": [
      "100%|██████████| 50000/50000 [01:04<00:00, 780.77it/s]\n"
     ]
    },
    {
     "name": "stdout",
     "output_type": "stream",
     "text": [
      "Starting calculation for 100000 particles\n"
     ]
    },
    {
     "name": "stderr",
     "output_type": "stream",
     "text": [
      "100%|██████████| 50000/50000 [01:04<00:00, 769.42it/s]\n"
     ]
    },
    {
     "name": "stdout",
     "output_type": "stream",
     "text": [
      "Starting calculation for 1000000 particles\n"
     ]
    },
    {
     "name": "stderr",
     "output_type": "stream",
     "text": [
      "100%|██████████| 50000/50000 [01:05<00:00, 762.26it/s]\n"
     ]
    }
   ],
   "source": [
    "with open(\"d.csv\",\"w\") as file:\n",
    "    writer = csv.writer(file)\n",
    "    for number_of_particles in number_of_particles_list:\n",
    "        print(f\"Starting calculation for {number_of_particles} particles\")\n",
    "        section_d = GrossPitaevskiiProblem(\n",
    "                                particle_number=number_of_particles,\n",
    "                                grid_size=10, \n",
    "                                grid_step=0.02, \n",
    "                                scattering_length=0.00433, \n",
    "                                sigma=0.5, \n",
    "                                time_step = 0.0001, \n",
    "                                iterations=50000, \n",
    "                                thomas_fermi=True,\n",
    "                                interacting_system=True\n",
    "                                )\n",
    "        section_d.evolution()\n",
    "        writer.writerow([number_of_particles,section_d.virial])\n"
   ]
  },
  {
   "cell_type": "code",
   "execution_count": 46,
   "metadata": {},
   "outputs": [
    {
     "data": {
      "text/html": [
       "<div>\n",
       "<style scoped>\n",
       "    .dataframe tbody tr th:only-of-type {\n",
       "        vertical-align: middle;\n",
       "    }\n",
       "\n",
       "    .dataframe tbody tr th {\n",
       "        vertical-align: top;\n",
       "    }\n",
       "\n",
       "    .dataframe thead th {\n",
       "        text-align: right;\n",
       "    }\n",
       "</style>\n",
       "<table border=\"1\" class=\"dataframe\">\n",
       "  <thead>\n",
       "    <tr style=\"text-align: right;\">\n",
       "      <th></th>\n",
       "      <th>N</th>\n",
       "      <th>virial</th>\n",
       "    </tr>\n",
       "  </thead>\n",
       "  <tbody>\n",
       "    <tr>\n",
       "      <th>0</th>\n",
       "      <td>100</td>\n",
       "      <td>-0.085593</td>\n",
       "    </tr>\n",
       "    <tr>\n",
       "      <th>1</th>\n",
       "      <td>1000</td>\n",
       "      <td>-0.044758</td>\n",
       "    </tr>\n",
       "    <tr>\n",
       "      <th>2</th>\n",
       "      <td>10000</td>\n",
       "      <td>-0.021273</td>\n",
       "    </tr>\n",
       "    <tr>\n",
       "      <th>3</th>\n",
       "      <td>100000</td>\n",
       "      <td>-0.004560</td>\n",
       "    </tr>\n",
       "    <tr>\n",
       "      <th>4</th>\n",
       "      <td>1000000</td>\n",
       "      <td>0.024943</td>\n",
       "    </tr>\n",
       "  </tbody>\n",
       "</table>\n",
       "</div>"
      ],
      "text/plain": [
       "         N    virial\n",
       "0      100 -0.085593\n",
       "1     1000 -0.044758\n",
       "2    10000 -0.021273\n",
       "3   100000 -0.004560\n",
       "4  1000000  0.024943"
      ]
     },
     "execution_count": 46,
     "metadata": {},
     "output_type": "execute_result"
    }
   ],
   "source": [
    "virial_df = pd.read_csv(\"d.csv\", names=[\"N\",\"virial\"])\n",
    "virial_df.head()"
   ]
  },
  {
   "cell_type": "code",
   "execution_count": null,
   "metadata": {},
   "outputs": [],
   "source": []
  }
 ],
 "metadata": {
  "kernelspec": {
   "display_name": "base",
   "language": "python",
   "name": "python3"
  },
  "language_info": {
   "codemirror_mode": {
    "name": "ipython",
    "version": 3
   },
   "file_extension": ".py",
   "mimetype": "text/x-python",
   "name": "python",
   "nbconvert_exporter": "python",
   "pygments_lexer": "ipython3",
   "version": "3.9.7"
  },
  "orig_nbformat": 4
 },
 "nbformat": 4,
 "nbformat_minor": 2
}
