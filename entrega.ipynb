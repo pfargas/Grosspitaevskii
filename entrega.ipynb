{
 "cells": [
  {
   "cell_type": "code",
   "execution_count": 1,
   "metadata": {},
   "outputs": [],
   "source": [
    "from grosspita import GrossPitaevskiiProblem\n",
    "import csv"
   ]
  },
  {
   "cell_type": "code",
   "execution_count": null,
   "metadata": {},
   "outputs": [],
   "source": []
  },
  {
   "attachments": {},
   "cell_type": "markdown",
   "metadata": {},
   "source": [
    "# Section a0)\n",
    "\n",
    "Check that if no interaction is considered, the simulation returns the expected results of the harmonic oscil·lator."
   ]
  },
  {
   "cell_type": "code",
   "execution_count": 2,
   "metadata": {},
   "outputs": [],
   "source": [
    "section_a0 = GrossPitaevskiiProblem(\n",
    "                                    particle_number=1000000,\n",
    "                                    grid_size=10, \n",
    "                                    grid_step=0.02, \n",
    "                                    scattering_length=0.00433, \n",
    "                                    sigma=0.5, \n",
    "                                    time_step = 0.0001, \n",
    "                                    iterations=20000, \n",
    "                                    thomas_fermi=False,\n",
    "                                    interacting_system=False\n",
    "                                    )"
   ]
  },
  {
   "cell_type": "code",
   "execution_count": 3,
   "metadata": {},
   "outputs": [
    {
     "name": "stderr",
     "output_type": "stream",
     "text": [
      "100%|██████████| 20000/20000 [00:24<00:00, 812.28it/s]\n"
     ]
    }
   ],
   "source": [
    "chemical_potential_section_a0 = section_a0.evolution()"
   ]
  },
  {
   "cell_type": "code",
   "execution_count": 4,
   "metadata": {},
   "outputs": [],
   "source": [
    "energy_section_a0 = section_a0.energy"
   ]
  },
  {
   "cell_type": "code",
   "execution_count": 5,
   "metadata": {},
   "outputs": [
    {
     "name": "stdout",
     "output_type": "stream",
     "text": [
      "e= 1.50 \n",
      " mu= 1.50\n"
     ]
    }
   ],
   "source": [
    "print(\"e=\",f\"{energy_section_a0:.2f}\",\"\\n\",\"mu=\",f\"{chemical_potential_section_a0:.2f}\")"
   ]
  },
  {
   "attachments": {},
   "cell_type": "markdown",
   "metadata": {},
   "source": [
    "# Section a)\n",
    "\n",
    "Study of the energies versus the number of particles"
   ]
  },
  {
   "cell_type": "code",
   "execution_count": 6,
   "metadata": {},
   "outputs": [
    {
     "name": "stdout",
     "output_type": "stream",
     "text": [
      "Starting calculation for 100 particles\n"
     ]
    },
    {
     "name": "stderr",
     "output_type": "stream",
     "text": [
      "100%|██████████| 20000/20000 [00:24<00:00, 827.92it/s]\n"
     ]
    },
    {
     "name": "stdout",
     "output_type": "stream",
     "text": [
      "Starting calculation for 1000 particles\n"
     ]
    },
    {
     "name": "stderr",
     "output_type": "stream",
     "text": [
      "100%|██████████| 20000/20000 [00:23<00:00, 835.19it/s]\n"
     ]
    },
    {
     "name": "stdout",
     "output_type": "stream",
     "text": [
      "Starting calculation for 10000 particles\n"
     ]
    },
    {
     "name": "stderr",
     "output_type": "stream",
     "text": [
      "100%|██████████| 20000/20000 [00:23<00:00, 833.36it/s]\n"
     ]
    },
    {
     "name": "stdout",
     "output_type": "stream",
     "text": [
      "Starting calculation for 100000 particles\n"
     ]
    },
    {
     "name": "stderr",
     "output_type": "stream",
     "text": [
      "100%|██████████| 20000/20000 [00:23<00:00, 837.03it/s]\n"
     ]
    },
    {
     "name": "stdout",
     "output_type": "stream",
     "text": [
      "Starting calculation for 1000000 particles\n"
     ]
    },
    {
     "name": "stderr",
     "output_type": "stream",
     "text": [
      "100%|██████████| 20000/20000 [00:23<00:00, 835.86it/s]\n"
     ]
    }
   ],
   "source": [
    "number_of_particles_list = [100,1000,10000,100000,1000000]\n",
    "with open(\"a.csv\",\"w\") as file:\n",
    "    writer = csv.writer(file)\n",
    "    writer.writerow([\"N\",\"mu\",\"e_kin\",\"e_trap\",\"e_int\",\"e\"])\n",
    "    for number_of_particles in number_of_particles_list:\n",
    "        print(f\"Starting calculation for {number_of_particles} particles\")\n",
    "        section_a = GrossPitaevskiiProblem(\n",
    "                                    particle_number=number_of_particles,\n",
    "                                    grid_size=10, \n",
    "                                    grid_step=0.02, \n",
    "                                    scattering_length=0.00433, \n",
    "                                    sigma=0.5, \n",
    "                                    time_step = 0.0001, \n",
    "                                    iterations=20000, \n",
    "                                    thomas_fermi=False,\n",
    "                                    interacting_system=True\n",
    "                                    )\n",
    "        \n",
    "        chemical_potential_section_a = section_a.evolution()\n",
    "\n",
    "        kinetic_energy_section_a = section_a.kinetic_term\n",
    "        trap_energy_section_a = section_a.trap_term\n",
    "        interaction_energy_section_a = section_a.interaction_term\n",
    "        energy_section_a = section_a.energy\n",
    "\n",
    "\n",
    "        writer.writerow([number_of_particles,\n",
    "                        chemical_potential_section_a,\n",
    "                        kinetic_energy_section_a,\n",
    "                        trap_energy_section_a,\n",
    "                        interaction_energy_section_a,\n",
    "                        energy_section_a])\n",
    "        "
   ]
  },
  {
   "cell_type": "code",
   "execution_count": 7,
   "metadata": {},
   "outputs": [
    {
     "data": {
      "text/html": [
       "<div>\n",
       "<style scoped>\n",
       "    .dataframe tbody tr th:only-of-type {\n",
       "        vertical-align: middle;\n",
       "    }\n",
       "\n",
       "    .dataframe tbody tr th {\n",
       "        vertical-align: top;\n",
       "    }\n",
       "\n",
       "    .dataframe thead th {\n",
       "        text-align: right;\n",
       "    }\n",
       "</style>\n",
       "<table border=\"1\" class=\"dataframe\">\n",
       "  <thead>\n",
       "    <tr style=\"text-align: right;\">\n",
       "      <th></th>\n",
       "      <th>N</th>\n",
       "      <th>mu</th>\n",
       "      <th>e_kin</th>\n",
       "      <th>e_trap</th>\n",
       "      <th>e_int</th>\n",
       "      <th>e</th>\n",
       "    </tr>\n",
       "  </thead>\n",
       "  <tbody>\n",
       "    <tr>\n",
       "      <th>0</th>\n",
       "      <td>100</td>\n",
       "      <td>1.785294</td>\n",
       "      <td>0.648456</td>\n",
       "      <td>0.870359</td>\n",
       "      <td>0.133236</td>\n",
       "      <td>1.652051</td>\n",
       "    </tr>\n",
       "    <tr>\n",
       "      <th>1</th>\n",
       "      <td>1000</td>\n",
       "      <td>3.042935</td>\n",
       "      <td>0.436422</td>\n",
       "      <td>1.369978</td>\n",
       "      <td>0.618266</td>\n",
       "      <td>2.424665</td>\n",
       "    </tr>\n",
       "    <tr>\n",
       "      <th>2</th>\n",
       "      <td>10000</td>\n",
       "      <td>6.865669</td>\n",
       "      <td>0.240311</td>\n",
       "      <td>2.977074</td>\n",
       "      <td>1.824141</td>\n",
       "      <td>5.041526</td>\n",
       "    </tr>\n",
       "    <tr>\n",
       "      <th>3</th>\n",
       "      <td>100000</td>\n",
       "      <td>16.846680</td>\n",
       "      <td>0.123681</td>\n",
       "      <td>7.237536</td>\n",
       "      <td>4.742731</td>\n",
       "      <td>12.103947</td>\n",
       "    </tr>\n",
       "    <tr>\n",
       "      <th>4</th>\n",
       "      <td>1000000</td>\n",
       "      <td>42.123843</td>\n",
       "      <td>0.062219</td>\n",
       "      <td>18.054772</td>\n",
       "      <td>12.003426</td>\n",
       "      <td>30.120417</td>\n",
       "    </tr>\n",
       "  </tbody>\n",
       "</table>\n",
       "</div>"
      ],
      "text/plain": [
       "         N         mu     e_kin     e_trap      e_int          e\n",
       "0      100   1.785294  0.648456   0.870359   0.133236   1.652051\n",
       "1     1000   3.042935  0.436422   1.369978   0.618266   2.424665\n",
       "2    10000   6.865669  0.240311   2.977074   1.824141   5.041526\n",
       "3   100000  16.846680  0.123681   7.237536   4.742731  12.103947\n",
       "4  1000000  42.123843  0.062219  18.054772  12.003426  30.120417"
      ]
     },
     "execution_count": 7,
     "metadata": {},
     "output_type": "execute_result"
    }
   ],
   "source": [
    "import pandas as pd\n",
    "import matplotlib.pyplot as plt\n",
    "\n",
    "df = pd.read_csv(\"a.csv\")\n",
    "df.head()"
   ]
  },
  {
   "attachments": {},
   "cell_type": "markdown",
   "metadata": {},
   "source": [
    "# Section b)\n",
    "\n",
    "Study of the energies versus the number of particles in the Thomas-Fermi approximation"
   ]
  },
  {
   "cell_type": "code",
   "execution_count": 8,
   "metadata": {},
   "outputs": [
    {
     "name": "stdout",
     "output_type": "stream",
     "text": [
      "Starting calculation for 100 particles\n"
     ]
    },
    {
     "name": "stderr",
     "output_type": "stream",
     "text": [
      "100%|██████████| 50000/50000 [01:00<00:00, 821.85it/s]\n"
     ]
    },
    {
     "name": "stdout",
     "output_type": "stream",
     "text": [
      "Starting calculation for 1000 particles\n"
     ]
    },
    {
     "name": "stderr",
     "output_type": "stream",
     "text": [
      "100%|██████████| 50000/50000 [01:00<00:00, 826.66it/s]\n"
     ]
    },
    {
     "name": "stdout",
     "output_type": "stream",
     "text": [
      "Starting calculation for 10000 particles\n"
     ]
    },
    {
     "name": "stderr",
     "output_type": "stream",
     "text": [
      "100%|██████████| 50000/50000 [01:00<00:00, 826.51it/s]\n"
     ]
    },
    {
     "name": "stdout",
     "output_type": "stream",
     "text": [
      "Starting calculation for 100000 particles\n"
     ]
    },
    {
     "name": "stderr",
     "output_type": "stream",
     "text": [
      "100%|██████████| 50000/50000 [01:00<00:00, 826.14it/s]\n"
     ]
    },
    {
     "name": "stdout",
     "output_type": "stream",
     "text": [
      "Starting calculation for 1000000 particles\n"
     ]
    },
    {
     "name": "stderr",
     "output_type": "stream",
     "text": [
      "100%|██████████| 50000/50000 [01:00<00:00, 823.61it/s]\n"
     ]
    }
   ],
   "source": [
    "number_of_particles_list = [100,1000,10000,100000,1000000]\n",
    "with open(\"b.csv\",\"w\") as file:\n",
    "    writer = csv.writer(file)\n",
    "    writer.writerow([\"N\",\"mu\",\"e_kin\",\"e_trap\",\"e_int\",\"e\"])\n",
    "    for number_of_particles in number_of_particles_list:\n",
    "        print(f\"Starting calculation for {number_of_particles} particles\")\n",
    "        section_a = GrossPitaevskiiProblem(\n",
    "                                    particle_number=number_of_particles,\n",
    "                                    grid_size=10, \n",
    "                                    grid_step=0.02, \n",
    "                                    scattering_length=0.00433, \n",
    "                                    sigma=0.5, \n",
    "                                    time_step = 0.0001, \n",
    "                                    iterations=50000, \n",
    "                                    thomas_fermi=True,\n",
    "                                    interacting_system=True\n",
    "                                    )\n",
    "        \n",
    "        chemical_potential_section_a = section_a.evolution()\n",
    "\n",
    "        kinetic_energy_section_a = section_a.kinetic_term\n",
    "        trap_energy_section_a = section_a.trap_term\n",
    "        interaction_energy_section_a = section_a.interaction_term\n",
    "        energy_section_a = section_a.energy\n",
    "\n",
    "\n",
    "        writer.writerow([number_of_particles,\n",
    "                        chemical_potential_section_a,\n",
    "                        kinetic_energy_section_a,\n",
    "                        trap_energy_section_a,\n",
    "                        interaction_energy_section_a,\n",
    "                        energy_section_a])"
   ]
  },
  {
   "cell_type": "code",
   "execution_count": 9,
   "metadata": {},
   "outputs": [
    {
     "data": {
      "text/html": [
       "<div>\n",
       "<style scoped>\n",
       "    .dataframe tbody tr th:only-of-type {\n",
       "        vertical-align: middle;\n",
       "    }\n",
       "\n",
       "    .dataframe tbody tr th {\n",
       "        vertical-align: top;\n",
       "    }\n",
       "\n",
       "    .dataframe thead th {\n",
       "        text-align: right;\n",
       "    }\n",
       "</style>\n",
       "<table border=\"1\" class=\"dataframe\">\n",
       "  <thead>\n",
       "    <tr style=\"text-align: right;\">\n",
       "      <th></th>\n",
       "      <th>N</th>\n",
       "      <th>mu</th>\n",
       "      <th>e_kin</th>\n",
       "      <th>e_trap</th>\n",
       "      <th>e_int</th>\n",
       "      <th>e</th>\n",
       "    </tr>\n",
       "  </thead>\n",
       "  <tbody>\n",
       "    <tr>\n",
       "      <th>0</th>\n",
       "      <td>100</td>\n",
       "      <td>1.044837</td>\n",
       "      <td>1.653946</td>\n",
       "      <td>0.472240</td>\n",
       "      <td>0.286296</td>\n",
       "      <td>2.412482</td>\n",
       "    </tr>\n",
       "    <tr>\n",
       "      <th>1</th>\n",
       "      <td>1000</td>\n",
       "      <td>2.646779</td>\n",
       "      <td>0.913503</td>\n",
       "      <td>1.147120</td>\n",
       "      <td>0.749827</td>\n",
       "      <td>2.810451</td>\n",
       "    </tr>\n",
       "    <tr>\n",
       "      <th>2</th>\n",
       "      <td>10000</td>\n",
       "      <td>6.664047</td>\n",
       "      <td>0.478216</td>\n",
       "      <td>2.862097</td>\n",
       "      <td>1.900974</td>\n",
       "      <td>5.241287</td>\n",
       "    </tr>\n",
       "    <tr>\n",
       "      <th>3</th>\n",
       "      <td>100000</td>\n",
       "      <td>16.748602</td>\n",
       "      <td>0.248012</td>\n",
       "      <td>7.179275</td>\n",
       "      <td>4.784663</td>\n",
       "      <td>12.211950</td>\n",
       "    </tr>\n",
       "    <tr>\n",
       "      <th>4</th>\n",
       "      <td>1000000</td>\n",
       "      <td>42.077815</td>\n",
       "      <td>0.144530</td>\n",
       "      <td>18.026177</td>\n",
       "      <td>12.025766</td>\n",
       "      <td>30.196473</td>\n",
       "    </tr>\n",
       "  </tbody>\n",
       "</table>\n",
       "</div>"
      ],
      "text/plain": [
       "         N         mu     e_kin     e_trap      e_int          e\n",
       "0      100   1.044837  1.653946   0.472240   0.286296   2.412482\n",
       "1     1000   2.646779  0.913503   1.147120   0.749827   2.810451\n",
       "2    10000   6.664047  0.478216   2.862097   1.900974   5.241287\n",
       "3   100000  16.748602  0.248012   7.179275   4.784663  12.211950\n",
       "4  1000000  42.077815  0.144530  18.026177  12.025766  30.196473"
      ]
     },
     "execution_count": 9,
     "metadata": {},
     "output_type": "execute_result"
    }
   ],
   "source": [
    "df2 = pd.read_csv(\"b.csv\")\n",
    "df2.head()"
   ]
  }
 ],
 "metadata": {
  "kernelspec": {
   "display_name": "base",
   "language": "python",
   "name": "python3"
  },
  "language_info": {
   "codemirror_mode": {
    "name": "ipython",
    "version": 3
   },
   "file_extension": ".py",
   "mimetype": "text/x-python",
   "name": "python",
   "nbconvert_exporter": "python",
   "pygments_lexer": "ipython3",
   "version": "3.9.7"
  },
  "orig_nbformat": 4
 },
 "nbformat": 4,
 "nbformat_minor": 2
}
